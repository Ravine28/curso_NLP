{
  "nbformat": 4,
  "nbformat_minor": 0,
  "metadata": {
    "colab": {
      "provenance": [],
      "authorship_tag": "ABX9TyMYQCEr65La4Wg9v3hS5zsK",
      "include_colab_link": true
    },
    "kernelspec": {
      "name": "python3",
      "display_name": "Python 3"
    },
    "language_info": {
      "name": "python"
    }
  },
  "cells": [
    {
      "cell_type": "markdown",
      "metadata": {
        "id": "view-in-github",
        "colab_type": "text"
      },
      "source": [
        "<a href=\"https://colab.research.google.com/github/Ravine28/curso_NLP/blob/main/lista_01.ipynb\" target=\"_parent\"><img src=\"https://colab.research.google.com/assets/colab-badge.svg\" alt=\"Open In Colab\"/></a>"
      ]
    },
    {
      "cell_type": "markdown",
      "source": [
        "### **Instalando a biblioteca**"
      ],
      "metadata": {
        "id": "DBmoX6rmMUey"
      }
    },
    {
      "cell_type": "code",
      "execution_count": 1,
      "metadata": {
        "id": "8z9R44NUThZb",
        "colab": {
          "base_uri": "https://localhost:8080/"
        },
        "outputId": "2b1dc3d7-742d-444e-c6c5-ce4ae14f45f4"
      },
      "outputs": [
        {
          "output_type": "stream",
          "name": "stdout",
          "text": [
            "Requirement already satisfied: spacy in /usr/local/lib/python3.10/dist-packages (3.7.4)\n",
            "Requirement already satisfied: spacy-legacy<3.1.0,>=3.0.11 in /usr/local/lib/python3.10/dist-packages (from spacy) (3.0.12)\n",
            "Requirement already satisfied: spacy-loggers<2.0.0,>=1.0.0 in /usr/local/lib/python3.10/dist-packages (from spacy) (1.0.5)\n",
            "Requirement already satisfied: murmurhash<1.1.0,>=0.28.0 in /usr/local/lib/python3.10/dist-packages (from spacy) (1.0.10)\n",
            "Requirement already satisfied: cymem<2.1.0,>=2.0.2 in /usr/local/lib/python3.10/dist-packages (from spacy) (2.0.8)\n",
            "Requirement already satisfied: preshed<3.1.0,>=3.0.2 in /usr/local/lib/python3.10/dist-packages (from spacy) (3.0.9)\n",
            "Requirement already satisfied: thinc<8.3.0,>=8.2.2 in /usr/local/lib/python3.10/dist-packages (from spacy) (8.2.3)\n",
            "Requirement already satisfied: wasabi<1.2.0,>=0.9.1 in /usr/local/lib/python3.10/dist-packages (from spacy) (1.1.2)\n",
            "Requirement already satisfied: srsly<3.0.0,>=2.4.3 in /usr/local/lib/python3.10/dist-packages (from spacy) (2.4.8)\n",
            "Requirement already satisfied: catalogue<2.1.0,>=2.0.6 in /usr/local/lib/python3.10/dist-packages (from spacy) (2.0.10)\n",
            "Requirement already satisfied: weasel<0.4.0,>=0.1.0 in /usr/local/lib/python3.10/dist-packages (from spacy) (0.3.4)\n",
            "Requirement already satisfied: typer<0.10.0,>=0.3.0 in /usr/local/lib/python3.10/dist-packages (from spacy) (0.9.4)\n",
            "Requirement already satisfied: smart-open<7.0.0,>=5.2.1 in /usr/local/lib/python3.10/dist-packages (from spacy) (6.4.0)\n",
            "Requirement already satisfied: tqdm<5.0.0,>=4.38.0 in /usr/local/lib/python3.10/dist-packages (from spacy) (4.66.4)\n",
            "Requirement already satisfied: requests<3.0.0,>=2.13.0 in /usr/local/lib/python3.10/dist-packages (from spacy) (2.31.0)\n",
            "Requirement already satisfied: pydantic!=1.8,!=1.8.1,<3.0.0,>=1.7.4 in /usr/local/lib/python3.10/dist-packages (from spacy) (2.7.1)\n",
            "Requirement already satisfied: jinja2 in /usr/local/lib/python3.10/dist-packages (from spacy) (3.1.4)\n",
            "Requirement already satisfied: setuptools in /usr/local/lib/python3.10/dist-packages (from spacy) (67.7.2)\n",
            "Requirement already satisfied: packaging>=20.0 in /usr/local/lib/python3.10/dist-packages (from spacy) (24.0)\n",
            "Requirement already satisfied: langcodes<4.0.0,>=3.2.0 in /usr/local/lib/python3.10/dist-packages (from spacy) (3.4.0)\n",
            "Requirement already satisfied: numpy>=1.19.0 in /usr/local/lib/python3.10/dist-packages (from spacy) (1.25.2)\n",
            "Requirement already satisfied: language-data>=1.2 in /usr/local/lib/python3.10/dist-packages (from langcodes<4.0.0,>=3.2.0->spacy) (1.2.0)\n",
            "Requirement already satisfied: annotated-types>=0.4.0 in /usr/local/lib/python3.10/dist-packages (from pydantic!=1.8,!=1.8.1,<3.0.0,>=1.7.4->spacy) (0.6.0)\n",
            "Requirement already satisfied: pydantic-core==2.18.2 in /usr/local/lib/python3.10/dist-packages (from pydantic!=1.8,!=1.8.1,<3.0.0,>=1.7.4->spacy) (2.18.2)\n",
            "Requirement already satisfied: typing-extensions>=4.6.1 in /usr/local/lib/python3.10/dist-packages (from pydantic!=1.8,!=1.8.1,<3.0.0,>=1.7.4->spacy) (4.11.0)\n",
            "Requirement already satisfied: charset-normalizer<4,>=2 in /usr/local/lib/python3.10/dist-packages (from requests<3.0.0,>=2.13.0->spacy) (3.3.2)\n",
            "Requirement already satisfied: idna<4,>=2.5 in /usr/local/lib/python3.10/dist-packages (from requests<3.0.0,>=2.13.0->spacy) (3.7)\n",
            "Requirement already satisfied: urllib3<3,>=1.21.1 in /usr/local/lib/python3.10/dist-packages (from requests<3.0.0,>=2.13.0->spacy) (2.0.7)\n",
            "Requirement already satisfied: certifi>=2017.4.17 in /usr/local/lib/python3.10/dist-packages (from requests<3.0.0,>=2.13.0->spacy) (2024.2.2)\n",
            "Requirement already satisfied: blis<0.8.0,>=0.7.8 in /usr/local/lib/python3.10/dist-packages (from thinc<8.3.0,>=8.2.2->spacy) (0.7.11)\n",
            "Requirement already satisfied: confection<1.0.0,>=0.0.1 in /usr/local/lib/python3.10/dist-packages (from thinc<8.3.0,>=8.2.2->spacy) (0.1.4)\n",
            "Requirement already satisfied: click<9.0.0,>=7.1.1 in /usr/local/lib/python3.10/dist-packages (from typer<0.10.0,>=0.3.0->spacy) (8.1.7)\n",
            "Requirement already satisfied: cloudpathlib<0.17.0,>=0.7.0 in /usr/local/lib/python3.10/dist-packages (from weasel<0.4.0,>=0.1.0->spacy) (0.16.0)\n",
            "Requirement already satisfied: MarkupSafe>=2.0 in /usr/local/lib/python3.10/dist-packages (from jinja2->spacy) (2.1.5)\n",
            "Requirement already satisfied: marisa-trie>=0.7.7 in /usr/local/lib/python3.10/dist-packages (from language-data>=1.2->langcodes<4.0.0,>=3.2.0->spacy) (1.1.1)\n"
          ]
        }
      ],
      "source": [
        "%pip install spacy -U"
      ]
    },
    {
      "cell_type": "markdown",
      "source": [
        "### **Baixando as ferramentas específicas para o português. Aqui tive que reiniciar o Colab depois por conta de um erro.**\n"
      ],
      "metadata": {
        "id": "m9bzQxqqMj5n"
      }
    },
    {
      "cell_type": "code",
      "source": [
        "!python -m spacy download pt_core_news_sm"
      ],
      "metadata": {
        "colab": {
          "base_uri": "https://localhost:8080/"
        },
        "id": "gURFnx1LUA_I",
        "outputId": "5f88d415-4f85-4756-8876-c1117d4bff73"
      },
      "execution_count": 2,
      "outputs": [
        {
          "output_type": "stream",
          "name": "stdout",
          "text": [
            "Collecting pt-core-news-sm==3.7.0\n",
            "  Downloading https://github.com/explosion/spacy-models/releases/download/pt_core_news_sm-3.7.0/pt_core_news_sm-3.7.0-py3-none-any.whl (13.0 MB)\n",
            "\u001b[2K     \u001b[90m━━━━━━━━━━━━━━━━━━━━━━━━━━━━━━━━━━━━━━━━\u001b[0m \u001b[32m13.0/13.0 MB\u001b[0m \u001b[31m20.3 MB/s\u001b[0m eta \u001b[36m0:00:00\u001b[0m\n",
            "\u001b[?25hRequirement already satisfied: spacy<3.8.0,>=3.7.0 in /usr/local/lib/python3.10/dist-packages (from pt-core-news-sm==3.7.0) (3.7.4)\n",
            "Requirement already satisfied: spacy-legacy<3.1.0,>=3.0.11 in /usr/local/lib/python3.10/dist-packages (from spacy<3.8.0,>=3.7.0->pt-core-news-sm==3.7.0) (3.0.12)\n",
            "Requirement already satisfied: spacy-loggers<2.0.0,>=1.0.0 in /usr/local/lib/python3.10/dist-packages (from spacy<3.8.0,>=3.7.0->pt-core-news-sm==3.7.0) (1.0.5)\n",
            "Requirement already satisfied: murmurhash<1.1.0,>=0.28.0 in /usr/local/lib/python3.10/dist-packages (from spacy<3.8.0,>=3.7.0->pt-core-news-sm==3.7.0) (1.0.10)\n",
            "Requirement already satisfied: cymem<2.1.0,>=2.0.2 in /usr/local/lib/python3.10/dist-packages (from spacy<3.8.0,>=3.7.0->pt-core-news-sm==3.7.0) (2.0.8)\n",
            "Requirement already satisfied: preshed<3.1.0,>=3.0.2 in /usr/local/lib/python3.10/dist-packages (from spacy<3.8.0,>=3.7.0->pt-core-news-sm==3.7.0) (3.0.9)\n",
            "Requirement already satisfied: thinc<8.3.0,>=8.2.2 in /usr/local/lib/python3.10/dist-packages (from spacy<3.8.0,>=3.7.0->pt-core-news-sm==3.7.0) (8.2.3)\n",
            "Requirement already satisfied: wasabi<1.2.0,>=0.9.1 in /usr/local/lib/python3.10/dist-packages (from spacy<3.8.0,>=3.7.0->pt-core-news-sm==3.7.0) (1.1.2)\n",
            "Requirement already satisfied: srsly<3.0.0,>=2.4.3 in /usr/local/lib/python3.10/dist-packages (from spacy<3.8.0,>=3.7.0->pt-core-news-sm==3.7.0) (2.4.8)\n",
            "Requirement already satisfied: catalogue<2.1.0,>=2.0.6 in /usr/local/lib/python3.10/dist-packages (from spacy<3.8.0,>=3.7.0->pt-core-news-sm==3.7.0) (2.0.10)\n",
            "Requirement already satisfied: weasel<0.4.0,>=0.1.0 in /usr/local/lib/python3.10/dist-packages (from spacy<3.8.0,>=3.7.0->pt-core-news-sm==3.7.0) (0.3.4)\n",
            "Requirement already satisfied: typer<0.10.0,>=0.3.0 in /usr/local/lib/python3.10/dist-packages (from spacy<3.8.0,>=3.7.0->pt-core-news-sm==3.7.0) (0.9.4)\n",
            "Requirement already satisfied: smart-open<7.0.0,>=5.2.1 in /usr/local/lib/python3.10/dist-packages (from spacy<3.8.0,>=3.7.0->pt-core-news-sm==3.7.0) (6.4.0)\n",
            "Requirement already satisfied: tqdm<5.0.0,>=4.38.0 in /usr/local/lib/python3.10/dist-packages (from spacy<3.8.0,>=3.7.0->pt-core-news-sm==3.7.0) (4.66.4)\n",
            "Requirement already satisfied: requests<3.0.0,>=2.13.0 in /usr/local/lib/python3.10/dist-packages (from spacy<3.8.0,>=3.7.0->pt-core-news-sm==3.7.0) (2.31.0)\n",
            "Requirement already satisfied: pydantic!=1.8,!=1.8.1,<3.0.0,>=1.7.4 in /usr/local/lib/python3.10/dist-packages (from spacy<3.8.0,>=3.7.0->pt-core-news-sm==3.7.0) (2.7.1)\n",
            "Requirement already satisfied: jinja2 in /usr/local/lib/python3.10/dist-packages (from spacy<3.8.0,>=3.7.0->pt-core-news-sm==3.7.0) (3.1.4)\n",
            "Requirement already satisfied: setuptools in /usr/local/lib/python3.10/dist-packages (from spacy<3.8.0,>=3.7.0->pt-core-news-sm==3.7.0) (67.7.2)\n",
            "Requirement already satisfied: packaging>=20.0 in /usr/local/lib/python3.10/dist-packages (from spacy<3.8.0,>=3.7.0->pt-core-news-sm==3.7.0) (24.0)\n",
            "Requirement already satisfied: langcodes<4.0.0,>=3.2.0 in /usr/local/lib/python3.10/dist-packages (from spacy<3.8.0,>=3.7.0->pt-core-news-sm==3.7.0) (3.4.0)\n",
            "Requirement already satisfied: numpy>=1.19.0 in /usr/local/lib/python3.10/dist-packages (from spacy<3.8.0,>=3.7.0->pt-core-news-sm==3.7.0) (1.25.2)\n",
            "Requirement already satisfied: language-data>=1.2 in /usr/local/lib/python3.10/dist-packages (from langcodes<4.0.0,>=3.2.0->spacy<3.8.0,>=3.7.0->pt-core-news-sm==3.7.0) (1.2.0)\n",
            "Requirement already satisfied: annotated-types>=0.4.0 in /usr/local/lib/python3.10/dist-packages (from pydantic!=1.8,!=1.8.1,<3.0.0,>=1.7.4->spacy<3.8.0,>=3.7.0->pt-core-news-sm==3.7.0) (0.6.0)\n",
            "Requirement already satisfied: pydantic-core==2.18.2 in /usr/local/lib/python3.10/dist-packages (from pydantic!=1.8,!=1.8.1,<3.0.0,>=1.7.4->spacy<3.8.0,>=3.7.0->pt-core-news-sm==3.7.0) (2.18.2)\n",
            "Requirement already satisfied: typing-extensions>=4.6.1 in /usr/local/lib/python3.10/dist-packages (from pydantic!=1.8,!=1.8.1,<3.0.0,>=1.7.4->spacy<3.8.0,>=3.7.0->pt-core-news-sm==3.7.0) (4.11.0)\n",
            "Requirement already satisfied: charset-normalizer<4,>=2 in /usr/local/lib/python3.10/dist-packages (from requests<3.0.0,>=2.13.0->spacy<3.8.0,>=3.7.0->pt-core-news-sm==3.7.0) (3.3.2)\n",
            "Requirement already satisfied: idna<4,>=2.5 in /usr/local/lib/python3.10/dist-packages (from requests<3.0.0,>=2.13.0->spacy<3.8.0,>=3.7.0->pt-core-news-sm==3.7.0) (3.7)\n",
            "Requirement already satisfied: urllib3<3,>=1.21.1 in /usr/local/lib/python3.10/dist-packages (from requests<3.0.0,>=2.13.0->spacy<3.8.0,>=3.7.0->pt-core-news-sm==3.7.0) (2.0.7)\n",
            "Requirement already satisfied: certifi>=2017.4.17 in /usr/local/lib/python3.10/dist-packages (from requests<3.0.0,>=2.13.0->spacy<3.8.0,>=3.7.0->pt-core-news-sm==3.7.0) (2024.2.2)\n",
            "Requirement already satisfied: blis<0.8.0,>=0.7.8 in /usr/local/lib/python3.10/dist-packages (from thinc<8.3.0,>=8.2.2->spacy<3.8.0,>=3.7.0->pt-core-news-sm==3.7.0) (0.7.11)\n",
            "Requirement already satisfied: confection<1.0.0,>=0.0.1 in /usr/local/lib/python3.10/dist-packages (from thinc<8.3.0,>=8.2.2->spacy<3.8.0,>=3.7.0->pt-core-news-sm==3.7.0) (0.1.4)\n",
            "Requirement already satisfied: click<9.0.0,>=7.1.1 in /usr/local/lib/python3.10/dist-packages (from typer<0.10.0,>=0.3.0->spacy<3.8.0,>=3.7.0->pt-core-news-sm==3.7.0) (8.1.7)\n",
            "Requirement already satisfied: cloudpathlib<0.17.0,>=0.7.0 in /usr/local/lib/python3.10/dist-packages (from weasel<0.4.0,>=0.1.0->spacy<3.8.0,>=3.7.0->pt-core-news-sm==3.7.0) (0.16.0)\n",
            "Requirement already satisfied: MarkupSafe>=2.0 in /usr/local/lib/python3.10/dist-packages (from jinja2->spacy<3.8.0,>=3.7.0->pt-core-news-sm==3.7.0) (2.1.5)\n",
            "Requirement already satisfied: marisa-trie>=0.7.7 in /usr/local/lib/python3.10/dist-packages (from language-data>=1.2->langcodes<4.0.0,>=3.2.0->spacy<3.8.0,>=3.7.0->pt-core-news-sm==3.7.0) (1.1.1)\n",
            "\u001b[38;5;2m✔ Download and installation successful\u001b[0m\n",
            "You can now load the package via spacy.load('pt_core_news_sm')\n",
            "\u001b[38;5;3m⚠ Restart to reload dependencies\u001b[0m\n",
            "If you are in a Jupyter or Colab notebook, you may need to restart Python in\n",
            "order to load all the package's dependencies. You can do this by selecting the\n",
            "'Restart kernel' or 'Restart runtime' option.\n"
          ]
        }
      ]
    },
    {
      "cell_type": "markdown",
      "source": [
        "### **Importando a biblioteca**"
      ],
      "metadata": {
        "id": "r09lxM9_NICc"
      }
    },
    {
      "cell_type": "code",
      "source": [
        "import spacy\n",
        "import pt_core_news_sm\n",
        "spacyPT = pt_core_news_sm.load()"
      ],
      "metadata": {
        "id": "hdwUbjSqUWbN"
      },
      "execution_count": 3,
      "outputs": []
    },
    {
      "cell_type": "markdown",
      "source": [
        "### **Verificando a versão do SpaCy**"
      ],
      "metadata": {
        "id": "-iBd5txpNAPg"
      }
    },
    {
      "cell_type": "code",
      "source": [
        "spacy.__version__"
      ],
      "metadata": {
        "colab": {
          "base_uri": "https://localhost:8080/",
          "height": 35
        },
        "id": "GQ17RBlCUa2D",
        "outputId": "11402cc7-06b5-4bb4-edd3-23dff7a4ccda"
      },
      "execution_count": 4,
      "outputs": [
        {
          "output_type": "execute_result",
          "data": {
            "text/plain": [
              "'3.7.4'"
            ],
            "application/vnd.google.colaboratory.intrinsic+json": {
              "type": "string"
            }
          },
          "metadata": {},
          "execution_count": 4
        }
      ]
    },
    {
      "cell_type": "markdown",
      "source": [
        "## **Texto de entrada**"
      ],
      "metadata": {
        "id": "DXBk2-4tNVsS"
      }
    },
    {
      "cell_type": "code",
      "source": [
        "cap_3_bras_cubas = \"Mas, já que falei nos meus dois tios, deixem-me fazer aqui um curto esboço genealógico.        O fundador de minha família foi um certo Damião Cubas, que floresceu na primeira metade do século XVIII. Era tanoeiro de ofício, natural do Rio de Janeiro, onde teria morrido na penúria e na obscuridade, se somente exercesse a tanoaria. Mas não; fez-se lavrador, plantou, colheu, permutou o seu produto por boas e honradas patacas, até que morreu, deixando grosso cabedal a um filho, o licenciado Luís Cubas. Neste rapaz é que verdadeiramente começa a série de meus avós -- dos avós que a minha família sempre confessou -  porque o Damião Cubas era afinal de contas um tanoeiro, e talvez mau tanoeiro, ao passo que o Luís Cubas estudou em Coimbra, primou no Estado, e foi um dos amigos particulares do vice-rei conde da Cunha.        Como este apelido de Cubas lhe cheirasse excessivamente a tanoaria, alegava meu pai, bisneto do Damião, que o dito apelido fora dado a um cavaleiro, herói nas jornadas da Africa, em prêmio da façanha que praticou arrebatando trezentas cubas ao mouros. Meu pai era homem de imaginação; escapou à tanoaria nas asas de um calembour. Era um bom caráter, meu pai, varão digno e leal como poucos. Tinha, é verdade, uns fumos de pacholice; mas quem não é um pouco pachola nesse mundo? Releva notar que ele não recorreu à inventiva senão depois de experimentar a falsificação; primeiramente, entroncou-se na família daquele meu famoso homônimo, o capitão-mor Brás Cubas, que fundou a vila de São Vicente, onde morreu em 1592, e por esse motivo é que me deu o nome de Brás. Opôs-se-lhe, porém, a família do capitão-mor, e foi então que ele imaginou as trezentas cubas mouriscas.        Vivem ainda alguns membros de minha família, minha sobrinha Venância, por exemplo, o lírio-do-vale, que é a flor das damas do seu tempo; vive o pai, o Cotrim, um sujeito que... Mas não antecipemos os sucessos; acabemos de uma vez com o nosso emplasto. \"\n",
        "cap_3_bras_cubas"
      ],
      "metadata": {
        "colab": {
          "base_uri": "https://localhost:8080/",
          "height": 140
        },
        "id": "7RMWdxpRXP-i",
        "outputId": "620b51c9-16fe-4efa-d183-f4b1d52458d9"
      },
      "execution_count": 14,
      "outputs": [
        {
          "output_type": "execute_result",
          "data": {
            "text/plain": [
              "'Mas, já que falei nos meus dois tios, deixem-me fazer aqui um curto esboço genealógico.        O fundador de minha família foi um certo Damião Cubas, que floresceu na primeira metade do século XVIII. Era tanoeiro de ofício, natural do Rio de Janeiro, onde teria morrido na penúria e na obscuridade, se somente exercesse a tanoaria. Mas não; fez-se lavrador, plantou, colheu, permutou o seu produto por boas e honradas patacas, até que morreu, deixando grosso cabedal a um filho, o licenciado Luís Cubas. Neste rapaz é que verdadeiramente começa a série de meus avós -- dos avós que a minha família sempre confessou -  porque o Damião Cubas era afinal de contas um tanoeiro, e talvez mau tanoeiro, ao passo que o Luís Cubas estudou em Coimbra, primou no Estado, e foi um dos amigos particulares do vice-rei conde da Cunha.        Como este apelido de Cubas lhe cheirasse excessivamente a tanoaria, alegava meu pai, bisneto do Damião, que o dito apelido fora dado a um cavaleiro, herói nas jornadas da Africa, em prêmio da façanha que praticou arrebatando trezentas cubas ao mouros. Meu pai era homem de imaginação; escapou à tanoaria nas asas de um calembour. Era um bom caráter, meu pai, varão digno e leal como poucos. Tinha, é verdade, uns fumos de pacholice; mas quem não é um pouco pachola nesse mundo? Releva notar que ele não recorreu à inventiva senão depois de experimentar a falsificação; primeiramente, entroncou-se na família daquele meu famoso homônimo, o capitão-mor Brás Cubas, que fundou a vila de São Vicente, onde morreu em 1592, e por esse motivo é que me deu o nome de Brás. Opôs-se-lhe, porém, a família do capitão-mor, e foi então que ele imaginou as trezentas cubas mouriscas.        Vivem ainda alguns membros de minha família, minha sobrinha Venância, por exemplo, o lírio-do-vale, que é a flor das damas do seu tempo; vive o pai, o Cotrim, um sujeito que... Mas não antecipemos os sucessos; acabemos de uma vez com o nosso emplasto. '"
            ],
            "application/vnd.google.colaboratory.intrinsic+json": {
              "type": "string"
            }
          },
          "metadata": {},
          "execution_count": 14
        }
      ]
    },
    {
      "cell_type": "markdown",
      "source": [
        "###**O comando nlp = spacy.load(\"pt_core_news_sm\") é usado na biblioteca spaCy para carregar um modelo de processamento de linguagem natural (PLN) pré-treinado.**\n",
        "\n",
        "**nlp**: É uma variável usada para se referir ao objeto de processamento de linguagem natural que será criado pelo spaCy.\n",
        "\n",
        "---\n",
        "\n",
        "\n",
        "**spacy.load()**: Esta é a função que carrega um modelo spaCy. A função load é um método da biblioteca spaCy que inicializa o modelo com várias capacidades de PLN, como tokenização, lematização, reconhecimento de entidades nomeadas, etc.\n",
        "\n",
        "---\n",
        "\n",
        "\n",
        "**\"pt_core_news_sm\"**: É o nome do modelo específico que está sendo carregado. Este modelo é treinado em textos em português e é otimizado para trabalhar com notícias. O sufixo _sm indica que é uma versão pequena (“small”) do modelo. Existem versões maiores com _md (médio) e _lg (grande), que podem ser mais precisas, mas também são maiores em tamanho e mais lentas para carregar.\n",
        "Quando você executa esse comando, o spaCy carrega o modelo de língua portuguesa e o associa à variável nlp.\n",
        "\n",
        "\n"
      ],
      "metadata": {
        "id": "LLwX-CG7N-vy"
      }
    },
    {
      "cell_type": "code",
      "source": [
        "nlp = spacy.load(\"pt_core_news_sm\")\n",
        "cap_3_bras_cubas = nlp(cap_3_bras_cubas)"
      ],
      "metadata": {
        "id": "TvtF2QAbHq8B"
      },
      "execution_count": 45,
      "outputs": []
    },
    {
      "cell_type": "markdown",
      "source": [
        "### **Tokenização do texto**"
      ],
      "metadata": {
        "id": "BnbPLu9sPOfF"
      }
    },
    {
      "cell_type": "code",
      "source": [
        "tokens = cap_3_bras_cubas.text.split()\n",
        "print(tokens)"
      ],
      "metadata": {
        "colab": {
          "base_uri": "https://localhost:8080/"
        },
        "id": "Wlua13mHHyZ9",
        "outputId": "7748c804-b67d-4d94-c22a-103fd718576f"
      },
      "execution_count": 44,
      "outputs": [
        {
          "output_type": "stream",
          "name": "stdout",
          "text": [
            "['Mas,', 'já', 'que', 'falei', 'nos', 'meus', 'dois', 'tios,', 'deixem-me', 'fazer', 'aqui', 'um', 'curto', 'esboço', 'genealógico.', 'O', 'fundador', 'de', 'minha', 'família', 'foi', 'um', 'certo', 'Damião', 'Cubas,', 'que', 'floresceu', 'na', 'primeira', 'metade', 'do', 'século', 'XVIII.', 'Era', 'tanoeiro', 'de', 'ofício,', 'natural', 'do', 'Rio', 'de', 'Janeiro,', 'onde', 'teria', 'morrido', 'na', 'penúria', 'e', 'na', 'obscuridade,', 'se', 'somente', 'exercesse', 'a', 'tanoaria.', 'Mas', 'não;', 'fez-se', 'lavrador,', 'plantou,', 'colheu,', 'permutou', 'o', 'seu', 'produto', 'por', 'boas', 'e', 'honradas', 'patacas,', 'até', 'que', 'morreu,', 'deixando', 'grosso', 'cabedal', 'a', 'um', 'filho,', 'o', 'licenciado', 'Luís', 'Cubas.', 'Neste', 'rapaz', 'é', 'que', 'verdadeiramente', 'começa', 'a', 'série', 'de', 'meus', 'avós', '--', 'dos', 'avós', 'que', 'a', 'minha', 'família', 'sempre', 'confessou', '-', 'porque', 'o', 'Damião', 'Cubas', 'era', 'afinal', 'de', 'contas', 'um', 'tanoeiro,', 'e', 'talvez', 'mau', 'tanoeiro,', 'ao', 'passo', 'que', 'o', 'Luís', 'Cubas', 'estudou', 'em', 'Coimbra,', 'primou', 'no', 'Estado,', 'e', 'foi', 'um', 'dos', 'amigos', 'particulares', 'do', 'vice-rei', 'conde', 'da', 'Cunha.', 'Como', 'este', 'apelido', 'de', 'Cubas', 'lhe', 'cheirasse', 'excessivamente', 'a', 'tanoaria,', 'alegava', 'meu', 'pai,', 'bisneto', 'do', 'Damião,', 'que', 'o', 'dito', 'apelido', 'fora', 'dado', 'a', 'um', 'cavaleiro,', 'herói', 'nas', 'jornadas', 'da', 'Africa,', 'em', 'prêmio', 'da', 'façanha', 'que', 'praticou', 'arrebatando', 'trezentas', 'cubas', 'ao', 'mouros.', 'Meu', 'pai', 'era', 'homem', 'de', 'imaginação;', 'escapou', 'à', 'tanoaria', 'nas', 'asas', 'de', 'um', 'calembour.', 'Era', 'um', 'bom', 'caráter,', 'meu', 'pai,', 'varão', 'digno', 'e', 'leal', 'como', 'poucos.', 'Tinha,', 'é', 'verdade,', 'uns', 'fumos', 'de', 'pacholice;', 'mas', 'quem', 'não', 'é', 'um', 'pouco', 'pachola', 'nesse', 'mundo?', 'Releva', 'notar', 'que', 'ele', 'não', 'recorreu', 'à', 'inventiva', 'senão', 'depois', 'de', 'experimentar', 'a', 'falsificação;', 'primeiramente,', 'entroncou-se', 'na', 'família', 'daquele', 'meu', 'famoso', 'homônimo,', 'o', 'capitão-mor', 'Brás', 'Cubas,', 'que', 'fundou', 'a', 'vila', 'de', 'São', 'Vicente,', 'onde', 'morreu', 'em', '1592,', 'e', 'por', 'esse', 'motivo', 'é', 'que', 'me', 'deu', 'o', 'nome', 'de', 'Brás.', 'Opôs-se-lhe,', 'porém,', 'a', 'família', 'do', 'capitão-mor,', 'e', 'foi', 'então', 'que', 'ele', 'imaginou', 'as', 'trezentas', 'cubas', 'mouriscas.', 'Vivem', 'ainda', 'alguns', 'membros', 'de', 'minha', 'família,', 'minha', 'sobrinha', 'Venância,', 'por', 'exemplo,', 'o', 'lírio-do-vale,', 'que', 'é', 'a', 'flor', 'das', 'damas', 'do', 'seu', 'tempo;', 'vive', 'o', 'pai,', 'o', 'Cotrim,', 'um', 'sujeito', 'que...', 'Mas', 'não', 'antecipemos', 'os', 'sucessos;', 'acabemos', 'de', 'uma', 'vez', 'com', 'o', 'nosso', 'emplasto.']\n"
          ]
        }
      ]
    },
    {
      "cell_type": "markdown",
      "source": [
        "### **Removendo a pontuação**"
      ],
      "metadata": {
        "id": "RkoETvPQPsDU"
      }
    },
    {
      "cell_type": "code",
      "source": [
        "[token.text for token in cap_3_bras_cubas if not token.is_punct]"
      ],
      "metadata": {
        "colab": {
          "base_uri": "https://localhost:8080/"
        },
        "id": "u9bzRCD_IcQR",
        "outputId": "cf94d094-0538-4585-98d2-c07efa899883"
      },
      "execution_count": 24,
      "outputs": [
        {
          "output_type": "execute_result",
          "data": {
            "text/plain": [
              "['Mas',\n",
              " 'já',\n",
              " 'que',\n",
              " 'falei',\n",
              " 'nos',\n",
              " 'meus',\n",
              " 'dois',\n",
              " 'tios',\n",
              " 'deixem-me',\n",
              " 'fazer',\n",
              " 'aqui',\n",
              " 'um',\n",
              " 'curto',\n",
              " 'esboço',\n",
              " 'genealógico',\n",
              " '       ',\n",
              " 'O',\n",
              " 'fundador',\n",
              " 'de',\n",
              " 'minha',\n",
              " 'família',\n",
              " 'foi',\n",
              " 'um',\n",
              " 'certo',\n",
              " 'Damião',\n",
              " 'Cubas',\n",
              " 'que',\n",
              " 'floresceu',\n",
              " 'na',\n",
              " 'primeira',\n",
              " 'metade',\n",
              " 'do',\n",
              " 'século',\n",
              " 'XVIII',\n",
              " 'Era',\n",
              " 'tanoeiro',\n",
              " 'de',\n",
              " 'ofício',\n",
              " 'natural',\n",
              " 'do',\n",
              " 'Rio',\n",
              " 'de',\n",
              " 'Janeiro',\n",
              " 'onde',\n",
              " 'teria',\n",
              " 'morrido',\n",
              " 'na',\n",
              " 'penúria',\n",
              " 'e',\n",
              " 'na',\n",
              " 'obscuridade',\n",
              " 'se',\n",
              " 'somente',\n",
              " 'exercesse',\n",
              " 'a',\n",
              " 'tanoaria',\n",
              " 'Mas',\n",
              " 'não',\n",
              " 'fez-se',\n",
              " 'lavrador',\n",
              " 'plantou',\n",
              " 'colheu',\n",
              " 'permutou',\n",
              " 'o',\n",
              " 'seu',\n",
              " 'produto',\n",
              " 'por',\n",
              " 'boas',\n",
              " 'e',\n",
              " 'honradas',\n",
              " 'patacas',\n",
              " 'até',\n",
              " 'que',\n",
              " 'morreu',\n",
              " 'deixando',\n",
              " 'grosso',\n",
              " 'cabedal',\n",
              " 'a',\n",
              " 'um',\n",
              " 'filho',\n",
              " 'o',\n",
              " 'licenciado',\n",
              " 'Luís',\n",
              " 'Cubas',\n",
              " 'Neste',\n",
              " 'rapaz',\n",
              " 'é',\n",
              " 'que',\n",
              " 'verdadeiramente',\n",
              " 'começa',\n",
              " 'a',\n",
              " 'série',\n",
              " 'de',\n",
              " 'meus',\n",
              " 'avós',\n",
              " 'dos',\n",
              " 'avós',\n",
              " 'que',\n",
              " 'a',\n",
              " 'minha',\n",
              " 'família',\n",
              " 'sempre',\n",
              " 'confessou',\n",
              " ' ',\n",
              " 'porque',\n",
              " 'o',\n",
              " 'Damião',\n",
              " 'Cubas',\n",
              " 'era',\n",
              " 'afinal',\n",
              " 'de',\n",
              " 'contas',\n",
              " 'um',\n",
              " 'tanoeiro',\n",
              " 'e',\n",
              " 'talvez',\n",
              " 'mau',\n",
              " 'tanoeiro',\n",
              " 'ao',\n",
              " 'passo',\n",
              " 'que',\n",
              " 'o',\n",
              " 'Luís',\n",
              " 'Cubas',\n",
              " 'estudou',\n",
              " 'em',\n",
              " 'Coimbra',\n",
              " 'primou',\n",
              " 'no',\n",
              " 'Estado',\n",
              " 'e',\n",
              " 'foi',\n",
              " 'um',\n",
              " 'dos',\n",
              " 'amigos',\n",
              " 'particulares',\n",
              " 'do',\n",
              " 'vice-rei',\n",
              " 'conde',\n",
              " 'da',\n",
              " 'Cunha',\n",
              " '       ',\n",
              " 'Como',\n",
              " 'este',\n",
              " 'apelido',\n",
              " 'de',\n",
              " 'Cubas',\n",
              " 'lhe',\n",
              " 'cheirasse',\n",
              " 'excessivamente',\n",
              " 'a',\n",
              " 'tanoaria',\n",
              " 'alegava',\n",
              " 'meu',\n",
              " 'pai',\n",
              " 'bisneto',\n",
              " 'do',\n",
              " 'Damião',\n",
              " 'que',\n",
              " 'o',\n",
              " 'dito',\n",
              " 'apelido',\n",
              " 'fora',\n",
              " 'dado',\n",
              " 'a',\n",
              " 'um',\n",
              " 'cavaleiro',\n",
              " 'herói',\n",
              " 'nas',\n",
              " 'jornadas',\n",
              " 'da',\n",
              " 'Africa',\n",
              " 'em',\n",
              " 'prêmio',\n",
              " 'da',\n",
              " 'façanha',\n",
              " 'que',\n",
              " 'praticou',\n",
              " 'arrebatando',\n",
              " 'trezentas',\n",
              " 'cubas',\n",
              " 'ao',\n",
              " 'mouros',\n",
              " 'Meu',\n",
              " 'pai',\n",
              " 'era',\n",
              " 'homem',\n",
              " 'de',\n",
              " 'imaginação',\n",
              " 'escapou',\n",
              " 'à',\n",
              " 'tanoaria',\n",
              " 'nas',\n",
              " 'asas',\n",
              " 'de',\n",
              " 'um',\n",
              " 'calembour',\n",
              " 'Era',\n",
              " 'um',\n",
              " 'bom',\n",
              " 'caráter',\n",
              " 'meu',\n",
              " 'pai',\n",
              " 'varão',\n",
              " 'digno',\n",
              " 'e',\n",
              " 'leal',\n",
              " 'como',\n",
              " 'poucos',\n",
              " 'Tinha',\n",
              " 'é',\n",
              " 'verdade',\n",
              " 'uns',\n",
              " 'fumos',\n",
              " 'de',\n",
              " 'pacholice',\n",
              " 'mas',\n",
              " 'quem',\n",
              " 'não',\n",
              " 'é',\n",
              " 'um',\n",
              " 'pouco',\n",
              " 'pachola',\n",
              " 'nesse',\n",
              " 'mundo',\n",
              " 'Releva',\n",
              " 'notar',\n",
              " 'que',\n",
              " 'ele',\n",
              " 'não',\n",
              " 'recorreu',\n",
              " 'à',\n",
              " 'inventiva',\n",
              " 'senão',\n",
              " 'depois',\n",
              " 'de',\n",
              " 'experimentar',\n",
              " 'a',\n",
              " 'falsificação',\n",
              " 'primeiramente',\n",
              " 'entroncou-se',\n",
              " 'na',\n",
              " 'família',\n",
              " 'daquele',\n",
              " 'meu',\n",
              " 'famoso',\n",
              " 'homônimo',\n",
              " 'o',\n",
              " 'capitão-mor',\n",
              " 'Brás',\n",
              " 'Cubas',\n",
              " 'que',\n",
              " 'fundou',\n",
              " 'a',\n",
              " 'vila',\n",
              " 'de',\n",
              " 'São',\n",
              " 'Vicente',\n",
              " 'onde',\n",
              " 'morreu',\n",
              " 'em',\n",
              " '1592',\n",
              " 'e',\n",
              " 'por',\n",
              " 'esse',\n",
              " 'motivo',\n",
              " 'é',\n",
              " 'que',\n",
              " 'me',\n",
              " 'deu',\n",
              " 'o',\n",
              " 'nome',\n",
              " 'de',\n",
              " 'Brás',\n",
              " 'Opôs-se-lhe',\n",
              " 'porém',\n",
              " 'a',\n",
              " 'família',\n",
              " 'do',\n",
              " 'capitão-mor',\n",
              " 'e',\n",
              " 'foi',\n",
              " 'então',\n",
              " 'que',\n",
              " 'ele',\n",
              " 'imaginou',\n",
              " 'as',\n",
              " 'trezentas',\n",
              " 'cubas',\n",
              " 'mouriscas',\n",
              " '       ',\n",
              " 'Vivem',\n",
              " 'ainda',\n",
              " 'alguns',\n",
              " 'membros',\n",
              " 'de',\n",
              " 'minha',\n",
              " 'família',\n",
              " 'minha',\n",
              " 'sobrinha',\n",
              " 'Venância',\n",
              " 'por',\n",
              " 'exemplo',\n",
              " 'o',\n",
              " 'lírio-do-vale',\n",
              " 'que',\n",
              " 'é',\n",
              " 'a',\n",
              " 'flor',\n",
              " 'das',\n",
              " 'damas',\n",
              " 'do',\n",
              " 'seu',\n",
              " 'tempo',\n",
              " 'vive',\n",
              " 'o',\n",
              " 'pai',\n",
              " 'o',\n",
              " 'Cotrim',\n",
              " 'um',\n",
              " 'sujeito',\n",
              " 'que',\n",
              " 'Mas',\n",
              " 'não',\n",
              " 'antecipemos',\n",
              " 'os',\n",
              " 'sucessos',\n",
              " 'acabemos',\n",
              " 'de',\n",
              " 'uma',\n",
              " 'vez',\n",
              " 'com',\n",
              " 'o',\n",
              " 'nosso',\n",
              " 'emplasto']"
            ]
          },
          "metadata": {},
          "execution_count": 24
        }
      ]
    },
    {
      "cell_type": "markdown",
      "source": [
        "### **Fazendo a *etiquetagem morfossíntática***"
      ],
      "metadata": {
        "id": "9q1-ChR-P2Za"
      }
    },
    {
      "cell_type": "code",
      "source": [
        "[(token.text, token.pos_) for token in cap_3_bras_cubas]"
      ],
      "metadata": {
        "colab": {
          "base_uri": "https://localhost:8080/"
        },
        "id": "YTbCmn4MIjb3",
        "outputId": "4803874c-aa93-4409-e1b8-5a6e9c95c85f"
      },
      "execution_count": 25,
      "outputs": [
        {
          "output_type": "execute_result",
          "data": {
            "text/plain": [
              "[('Mas', 'CCONJ'),\n",
              " (',', 'PUNCT'),\n",
              " ('já', 'SCONJ'),\n",
              " ('que', 'SCONJ'),\n",
              " ('falei', 'VERB'),\n",
              " ('nos', 'ADP'),\n",
              " ('meus', 'DET'),\n",
              " ('dois', 'NUM'),\n",
              " ('tios', 'NOUN'),\n",
              " (',', 'PUNCT'),\n",
              " ('deixem-me', 'VERB'),\n",
              " ('fazer', 'VERB'),\n",
              " ('aqui', 'ADV'),\n",
              " ('um', 'DET'),\n",
              " ('curto', 'ADJ'),\n",
              " ('esboço', 'NOUN'),\n",
              " ('genealógico', 'ADJ'),\n",
              " ('.', 'PUNCT'),\n",
              " ('       ', 'SPACE'),\n",
              " ('O', 'DET'),\n",
              " ('fundador', 'NOUN'),\n",
              " ('de', 'ADP'),\n",
              " ('minha', 'DET'),\n",
              " ('família', 'NOUN'),\n",
              " ('foi', 'AUX'),\n",
              " ('um', 'DET'),\n",
              " ('certo', 'ADJ'),\n",
              " ('Damião', 'PROPN'),\n",
              " ('Cubas', 'PROPN'),\n",
              " (',', 'PUNCT'),\n",
              " ('que', 'PRON'),\n",
              " ('floresceu', 'VERB'),\n",
              " ('na', 'ADP'),\n",
              " ('primeira', 'ADJ'),\n",
              " ('metade', 'NOUN'),\n",
              " ('do', 'ADP'),\n",
              " ('século', 'NOUN'),\n",
              " ('XVIII', 'ADJ'),\n",
              " ('.', 'PUNCT'),\n",
              " ('Era', 'AUX'),\n",
              " ('tanoeiro', 'NOUN'),\n",
              " ('de', 'ADP'),\n",
              " ('ofício', 'NOUN'),\n",
              " (',', 'PUNCT'),\n",
              " ('natural', 'ADJ'),\n",
              " ('do', 'ADP'),\n",
              " ('Rio', 'PROPN'),\n",
              " ('de', 'ADP'),\n",
              " ('Janeiro', 'PROPN'),\n",
              " (',', 'PUNCT'),\n",
              " ('onde', 'PRON'),\n",
              " ('teria', 'AUX'),\n",
              " ('morrido', 'VERB'),\n",
              " ('na', 'ADP'),\n",
              " ('penúria', 'NOUN'),\n",
              " ('e', 'CCONJ'),\n",
              " ('na', 'ADP'),\n",
              " ('obscuridade', 'NOUN'),\n",
              " (',', 'PUNCT'),\n",
              " ('se', 'SCONJ'),\n",
              " ('somente', 'ADV'),\n",
              " ('exercesse', 'VERB'),\n",
              " ('a', 'DET'),\n",
              " ('tanoaria', 'NOUN'),\n",
              " ('.', 'PUNCT'),\n",
              " ('Mas', 'CCONJ'),\n",
              " ('não', 'ADV'),\n",
              " (';', 'PUNCT'),\n",
              " ('fez-se', 'VERB'),\n",
              " ('lavrador', 'NOUN'),\n",
              " (',', 'PUNCT'),\n",
              " ('plantou', 'VERB'),\n",
              " (',', 'PUNCT'),\n",
              " ('colheu', 'ADV'),\n",
              " (',', 'PUNCT'),\n",
              " ('permutou', 'VERB'),\n",
              " ('o', 'DET'),\n",
              " ('seu', 'DET'),\n",
              " ('produto', 'NOUN'),\n",
              " ('por', 'ADP'),\n",
              " ('boas', 'NOUN'),\n",
              " ('e', 'CCONJ'),\n",
              " ('honradas', 'VERB'),\n",
              " ('patacas', 'ADJ'),\n",
              " (',', 'PUNCT'),\n",
              " ('até', 'SCONJ'),\n",
              " ('que', 'PRON'),\n",
              " ('morreu', 'VERB'),\n",
              " (',', 'PUNCT'),\n",
              " ('deixando', 'VERB'),\n",
              " ('grosso', 'ADV'),\n",
              " ('cabedal', 'NOUN'),\n",
              " ('a', 'ADP'),\n",
              " ('um', 'DET'),\n",
              " ('filho', 'NOUN'),\n",
              " (',', 'PUNCT'),\n",
              " ('o', 'DET'),\n",
              " ('licenciado', 'NOUN'),\n",
              " ('Luís', 'PROPN'),\n",
              " ('Cubas', 'PROPN'),\n",
              " ('.', 'PUNCT'),\n",
              " ('Neste', 'ADP'),\n",
              " ('rapaz', 'NOUN'),\n",
              " ('é', 'AUX'),\n",
              " ('que', 'SCONJ'),\n",
              " ('verdadeiramente', 'ADV'),\n",
              " ('começa', 'VERB'),\n",
              " ('a', 'DET'),\n",
              " ('série', 'NOUN'),\n",
              " ('de', 'ADP'),\n",
              " ('meus', 'DET'),\n",
              " ('avós', 'NOUN'),\n",
              " ('--', 'PUNCT'),\n",
              " ('dos', 'ADP'),\n",
              " ('avós', 'NOUN'),\n",
              " ('que', 'SCONJ'),\n",
              " ('a', 'DET'),\n",
              " ('minha', 'DET'),\n",
              " ('família', 'NOUN'),\n",
              " ('sempre', 'ADV'),\n",
              " ('confessou', 'VERB'),\n",
              " ('-', 'PUNCT'),\n",
              " (' ', 'SPACE'),\n",
              " ('porque', 'SCONJ'),\n",
              " ('o', 'DET'),\n",
              " ('Damião', 'PROPN'),\n",
              " ('Cubas', 'PROPN'),\n",
              " ('era', 'AUX'),\n",
              " ('afinal', 'NOUN'),\n",
              " ('de', 'ADP'),\n",
              " ('contas', 'NOUN'),\n",
              " ('um', 'DET'),\n",
              " ('tanoeiro', 'NOUN'),\n",
              " (',', 'PUNCT'),\n",
              " ('e', 'CCONJ'),\n",
              " ('talvez', 'ADV'),\n",
              " ('mau', 'ADJ'),\n",
              " ('tanoeiro', 'NOUN'),\n",
              " (',', 'PUNCT'),\n",
              " ('ao', 'ADP'),\n",
              " ('passo', 'NOUN'),\n",
              " ('que', 'SCONJ'),\n",
              " ('o', 'DET'),\n",
              " ('Luís', 'PROPN'),\n",
              " ('Cubas', 'PROPN'),\n",
              " ('estudou', 'VERB'),\n",
              " ('em', 'ADP'),\n",
              " ('Coimbra', 'PROPN'),\n",
              " (',', 'PUNCT'),\n",
              " ('primou', 'VERB'),\n",
              " ('no', 'ADP'),\n",
              " ('Estado', 'NOUN'),\n",
              " (',', 'PUNCT'),\n",
              " ('e', 'CCONJ'),\n",
              " ('foi', 'AUX'),\n",
              " ('um', 'NUM'),\n",
              " ('dos', 'ADP'),\n",
              " ('amigos', 'NOUN'),\n",
              " ('particulares', 'ADJ'),\n",
              " ('do', 'ADP'),\n",
              " ('vice-rei', 'NOUN'),\n",
              " ('conde', 'VERB'),\n",
              " ('da', 'ADP'),\n",
              " ('Cunha', 'PROPN'),\n",
              " ('.', 'PUNCT'),\n",
              " ('       ', 'SPACE'),\n",
              " ('Como', 'ADV'),\n",
              " ('este', 'DET'),\n",
              " ('apelido', 'NOUN'),\n",
              " ('de', 'ADP'),\n",
              " ('Cubas', 'NOUN'),\n",
              " ('lhe', 'PRON'),\n",
              " ('cheirasse', 'VERB'),\n",
              " ('excessivamente', 'ADV'),\n",
              " ('a', 'DET'),\n",
              " ('tanoaria', 'NOUN'),\n",
              " (',', 'PUNCT'),\n",
              " ('alegava', 'VERB'),\n",
              " ('meu', 'DET'),\n",
              " ('pai', 'NOUN'),\n",
              " (',', 'PUNCT'),\n",
              " ('bisneto', 'NOUN'),\n",
              " ('do', 'ADP'),\n",
              " ('Damião', 'NOUN'),\n",
              " (',', 'PUNCT'),\n",
              " ('que', 'PRON'),\n",
              " ('o', 'DET'),\n",
              " ('dito', 'VERB'),\n",
              " ('apelido', 'VERB'),\n",
              " ('fora', 'AUX'),\n",
              " ('dado', 'VERB'),\n",
              " ('a', 'ADP'),\n",
              " ('um', 'DET'),\n",
              " ('cavaleiro', 'NOUN'),\n",
              " (',', 'PUNCT'),\n",
              " ('herói', 'NOUN'),\n",
              " ('nas', 'ADP'),\n",
              " ('jornadas', 'NOUN'),\n",
              " ('da', 'ADP'),\n",
              " ('Africa', 'PROPN'),\n",
              " (',', 'PUNCT'),\n",
              " ('em', 'ADP'),\n",
              " ('prêmio', 'NOUN'),\n",
              " ('da', 'ADP'),\n",
              " ('façanha', 'NOUN'),\n",
              " ('que', 'PRON'),\n",
              " ('praticou', 'VERB'),\n",
              " ('arrebatando', 'VERB'),\n",
              " ('trezentas', 'NOUN'),\n",
              " ('cubas', 'NOUN'),\n",
              " ('ao', 'ADP'),\n",
              " ('mouros', 'NOUN'),\n",
              " ('.', 'PUNCT'),\n",
              " ('Meu', 'DET'),\n",
              " ('pai', 'NOUN'),\n",
              " ('era', 'AUX'),\n",
              " ('homem', 'NOUN'),\n",
              " ('de', 'ADP'),\n",
              " ('imaginação', 'NOUN'),\n",
              " (';', 'PUNCT'),\n",
              " ('escapou', 'VERB'),\n",
              " ('à', 'ADP'),\n",
              " ('tanoaria', 'NOUN'),\n",
              " ('nas', 'ADP'),\n",
              " ('asas', 'NOUN'),\n",
              " ('de', 'ADP'),\n",
              " ('um', 'DET'),\n",
              " ('calembour', 'NOUN'),\n",
              " ('.', 'PUNCT'),\n",
              " ('Era', 'AUX'),\n",
              " ('um', 'DET'),\n",
              " ('bom', 'ADJ'),\n",
              " ('caráter', 'NOUN'),\n",
              " (',', 'PUNCT'),\n",
              " ('meu', 'DET'),\n",
              " ('pai', 'NOUN'),\n",
              " (',', 'PUNCT'),\n",
              " ('varão', 'VERB'),\n",
              " ('digno', 'ADJ'),\n",
              " ('e', 'CCONJ'),\n",
              " ('leal', 'ADJ'),\n",
              " ('como', 'ADP'),\n",
              " ('poucos', 'NOUN'),\n",
              " ('.', 'PUNCT'),\n",
              " ('Tinha', 'VERB'),\n",
              " (',', 'PUNCT'),\n",
              " ('é', 'AUX'),\n",
              " ('verdade', 'NOUN'),\n",
              " (',', 'PUNCT'),\n",
              " ('uns', 'DET'),\n",
              " ('fumos', 'VERB'),\n",
              " ('de', 'ADP'),\n",
              " ('pacholice', 'NOUN'),\n",
              " (';', 'PUNCT'),\n",
              " ('mas', 'CCONJ'),\n",
              " ('quem', 'PRON'),\n",
              " ('não', 'ADV'),\n",
              " ('é', 'AUX'),\n",
              " ('um', 'DET'),\n",
              " ('pouco', 'ADV'),\n",
              " ('pachola', 'NOUN'),\n",
              " ('nesse', 'ADP'),\n",
              " ('mundo', 'NOUN'),\n",
              " ('?', 'PUNCT'),\n",
              " ('Releva', 'PROPN'),\n",
              " ('notar', 'VERB'),\n",
              " ('que', 'SCONJ'),\n",
              " ('ele', 'PRON'),\n",
              " ('não', 'ADV'),\n",
              " ('recorreu', 'VERB'),\n",
              " ('à', 'ADP'),\n",
              " ('inventiva', 'NOUN'),\n",
              " ('senão', 'ADV'),\n",
              " ('depois', 'ADV'),\n",
              " ('de', 'ADP'),\n",
              " ('experimentar', 'VERB'),\n",
              " ('a', 'DET'),\n",
              " ('falsificação', 'NOUN'),\n",
              " (';', 'PUNCT'),\n",
              " ('primeiramente', 'ADV'),\n",
              " (',', 'PUNCT'),\n",
              " ('entroncou-se', 'VERB'),\n",
              " ('na', 'ADP'),\n",
              " ('família', 'NOUN'),\n",
              " ('daquele', 'ADP'),\n",
              " ('meu', 'DET'),\n",
              " ('famoso', 'ADJ'),\n",
              " ('homônimo', 'NOUN'),\n",
              " (',', 'PUNCT'),\n",
              " ('o', 'DET'),\n",
              " ('capitão-mor', 'NOUN'),\n",
              " ('Brás', 'PROPN'),\n",
              " ('Cubas', 'PROPN'),\n",
              " (',', 'PUNCT'),\n",
              " ('que', 'PRON'),\n",
              " ('fundou', 'VERB'),\n",
              " ('a', 'DET'),\n",
              " ('vila', 'PROPN'),\n",
              " ('de', 'ADP'),\n",
              " ('São', 'PROPN'),\n",
              " ('Vicente', 'PROPN'),\n",
              " (',', 'PUNCT'),\n",
              " ('onde', 'PRON'),\n",
              " ('morreu', 'VERB'),\n",
              " ('em', 'ADP'),\n",
              " ('1592', 'NUM'),\n",
              " (',', 'PUNCT'),\n",
              " ('e', 'CCONJ'),\n",
              " ('por', 'ADP'),\n",
              " ('esse', 'DET'),\n",
              " ('motivo', 'NOUN'),\n",
              " ('é', 'VERB'),\n",
              " ('que', 'SCONJ'),\n",
              " ('me', 'PRON'),\n",
              " ('deu', 'VERB'),\n",
              " ('o', 'DET'),\n",
              " ('nome', 'NOUN'),\n",
              " ('de', 'ADP'),\n",
              " ('Brás', 'PROPN'),\n",
              " ('.', 'PUNCT'),\n",
              " ('Opôs-se-lhe', 'PROPN'),\n",
              " (',', 'PUNCT'),\n",
              " ('porém', 'CCONJ'),\n",
              " (',', 'PUNCT'),\n",
              " ('a', 'DET'),\n",
              " ('família', 'NOUN'),\n",
              " ('do', 'ADP'),\n",
              " ('capitão-mor', 'PROPN'),\n",
              " (',', 'PUNCT'),\n",
              " ('e', 'CCONJ'),\n",
              " ('foi', 'VERB'),\n",
              " ('então', 'ADV'),\n",
              " ('que', 'SCONJ'),\n",
              " ('ele', 'PRON'),\n",
              " ('imaginou', 'VERB'),\n",
              " ('as', 'DET'),\n",
              " ('trezentas', 'NOUN'),\n",
              " ('cubas', 'NOUN'),\n",
              " ('mouriscas', 'ADJ'),\n",
              " ('.', 'PUNCT'),\n",
              " ('       ', 'SPACE'),\n",
              " ('Vivem', 'VERB'),\n",
              " ('ainda', 'ADV'),\n",
              " ('alguns', 'DET'),\n",
              " ('membros', 'NOUN'),\n",
              " ('de', 'ADP'),\n",
              " ('minha', 'DET'),\n",
              " ('família', 'NOUN'),\n",
              " (',', 'PUNCT'),\n",
              " ('minha', 'DET'),\n",
              " ('sobrinha', 'NOUN'),\n",
              " ('Venância', 'NOUN'),\n",
              " (',', 'PUNCT'),\n",
              " ('por', 'ADP'),\n",
              " ('exemplo', 'NOUN'),\n",
              " (',', 'PUNCT'),\n",
              " ('o', 'DET'),\n",
              " ('lírio-do-vale', 'NOUN'),\n",
              " (',', 'PUNCT'),\n",
              " ('que', 'PRON'),\n",
              " ('é', 'AUX'),\n",
              " ('a', 'DET'),\n",
              " ('flor', 'NOUN'),\n",
              " ('das', 'ADP'),\n",
              " ('damas', 'NOUN'),\n",
              " ('do', 'ADP'),\n",
              " ('seu', 'DET'),\n",
              " ('tempo', 'NOUN'),\n",
              " (';', 'PUNCT'),\n",
              " ('vive', 'VERB'),\n",
              " ('o', 'DET'),\n",
              " ('pai', 'NOUN'),\n",
              " (',', 'PUNCT'),\n",
              " ('o', 'DET'),\n",
              " ('Cotrim', 'PROPN'),\n",
              " (',', 'PUNCT'),\n",
              " ('um', 'DET'),\n",
              " ('sujeito', 'NOUN'),\n",
              " ('que', 'PRON'),\n",
              " ('...', 'PUNCT'),\n",
              " ('Mas', 'CCONJ'),\n",
              " ('não', 'ADV'),\n",
              " ('antecipemos', 'VERB'),\n",
              " ('os', 'DET'),\n",
              " ('sucessos', 'NOUN'),\n",
              " (';', 'PUNCT'),\n",
              " ('acabemos', 'VERB'),\n",
              " ('de', 'ADP'),\n",
              " ('uma', 'DET'),\n",
              " ('vez', 'NOUN'),\n",
              " ('com', 'ADP'),\n",
              " ('o', 'DET'),\n",
              " ('nosso', 'DET'),\n",
              " ('emplasto', 'NOUN'),\n",
              " ('.', 'PUNCT')]"
            ]
          },
          "metadata": {},
          "execution_count": 25
        }
      ]
    },
    {
      "cell_type": "markdown",
      "source": [
        "### **Buscando os lemas de todos os pronomes encontrados no texto de entrada**"
      ],
      "metadata": {
        "id": "_fTgQLrrQHkS"
      }
    },
    {
      "cell_type": "code",
      "source": [
        "[token.lemma_ for token in cap_3_bras_cubas if token.pos_ == 'PROPN']"
      ],
      "metadata": {
        "colab": {
          "base_uri": "https://localhost:8080/"
        },
        "id": "i7M7aOP_IsEM",
        "outputId": "4b64bee7-fb18-42b4-b55b-ed05c3baf61b"
      },
      "execution_count": 27,
      "outputs": [
        {
          "output_type": "execute_result",
          "data": {
            "text/plain": [
              "['Damião',\n",
              " 'Cubas',\n",
              " 'Rio',\n",
              " 'Janeiro',\n",
              " 'Luís',\n",
              " 'Cubas',\n",
              " 'Damião',\n",
              " 'Cubas',\n",
              " 'Luís',\n",
              " 'Cubas',\n",
              " 'Coimbra',\n",
              " 'Cunha',\n",
              " 'Africa',\n",
              " 'Releva',\n",
              " 'Brás',\n",
              " 'Cubas',\n",
              " 'vila',\n",
              " 'São',\n",
              " 'Vicente',\n",
              " 'Brás',\n",
              " 'Opôs-se-lhe',\n",
              " 'capitão-mor',\n",
              " 'Cotrim']"
            ]
          },
          "metadata": {},
          "execution_count": 27
        }
      ]
    },
    {
      "cell_type": "markdown",
      "source": [
        "### **Buscando o nome dos personagens do texto *--> Questão 1***"
      ],
      "metadata": {
        "id": "qyfeX4JySQdY"
      }
    },
    {
      "cell_type": "code",
      "source": [
        "personagens = [entidade.text for entidade in cap_3_bras_cubas.ents if entidade.label_ == 'PER']\n",
        "\n",
        "print(personagens)"
      ],
      "metadata": {
        "colab": {
          "base_uri": "https://localhost:8080/"
        },
        "id": "D-vy4GOXKycT",
        "outputId": "445ae3fb-8c46-42b3-b912-420ff4c70322"
      },
      "execution_count": 37,
      "outputs": [
        {
          "output_type": "stream",
          "name": "stdout",
          "text": [
            "['Damião Cubas', 'Luís Cubas', 'Damião Cubas', 'Luís Cubas', 'conde da Cunha', 'Damião', 'Brás Cubas']\n"
          ]
        }
      ]
    },
    {
      "cell_type": "markdown",
      "source": [
        "### **Buscando os pronomes do texto *--> Questão 2***"
      ],
      "metadata": {
        "id": "y5C4w7t2SjTI"
      }
    },
    {
      "cell_type": "code",
      "source": [
        "[(entidade,entidade.label_) for entidade in cap_3_bras_cubas.ents]"
      ],
      "metadata": {
        "colab": {
          "base_uri": "https://localhost:8080/"
        },
        "id": "ZQ7Hk2SGJK_m",
        "outputId": "9596f1d4-b5af-470b-e5ab-3cd647444341"
      },
      "execution_count": 29,
      "outputs": [
        {
          "output_type": "execute_result",
          "data": {
            "text/plain": [
              "[(Damião Cubas, 'PER'),\n",
              " (Rio de Janeiro, 'LOC'),\n",
              " (Luís Cubas, 'PER'),\n",
              " (Damião Cubas, 'PER'),\n",
              " (Luís Cubas, 'PER'),\n",
              " (Coimbra, 'LOC'),\n",
              " (Estado, 'LOC'),\n",
              " (conde da Cunha, 'PER'),\n",
              " (Cubas, 'LOC'),\n",
              " (Damião, 'PER'),\n",
              " (Africa, 'LOC'),\n",
              " (Releva, 'LOC'),\n",
              " (Brás Cubas, 'PER'),\n",
              " (São Vicente, 'LOC'),\n",
              " (Brás, 'LOC'),\n",
              " (Venância, 'MISC'),\n",
              " (Cotrim, 'LOC')]"
            ]
          },
          "metadata": {},
          "execution_count": 29
        }
      ]
    },
    {
      "cell_type": "markdown",
      "source": [
        "### **A ferramenta displacy é uma das funcionalidades mais poderosas do spaCy para visualização. Ela permite que você visualize a estrutura de um texto processado, como as relações de dependência entre palavras e as entidades nomeadas reconhecidas no texto. Isso é extremamente útil para entender como o spaCy está interpretando e analisando o texto.**\n",
        "\n"
      ],
      "metadata": {
        "id": "SRDx8mHuS3Tp"
      }
    },
    {
      "cell_type": "code",
      "source": [
        "from spacy import displacy"
      ],
      "metadata": {
        "id": "RyMyRUoRLsWj"
      },
      "execution_count": 38,
      "outputs": []
    },
    {
      "cell_type": "markdown",
      "source": [
        "### **Buscando uma frase esspecífica do texto *--> Questão 3***"
      ],
      "metadata": {
        "id": "W7VSW2r1S7j_"
      }
    },
    {
      "cell_type": "code",
      "source": [
        "frases = [frase for frase in cap_3_bras_cubas.sents]\n",
        "frases[0]"
      ],
      "metadata": {
        "colab": {
          "base_uri": "https://localhost:8080/"
        },
        "id": "7hwQG16FLwcp",
        "outputId": "714780ec-7533-4825-f528-d3609d5d395b"
      },
      "execution_count": 41,
      "outputs": [
        {
          "output_type": "execute_result",
          "data": {
            "text/plain": [
              "Mas, já que falei nos meus dois tios, deixem-me fazer aqui um curto esboço genealógico.        "
            ]
          },
          "metadata": {},
          "execution_count": 41
        }
      ]
    }
  ]
}